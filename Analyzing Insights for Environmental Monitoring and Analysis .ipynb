{
 "cells": [
  {
   "cell_type": "code",
   "execution_count": 1,
   "metadata": {},
   "outputs": [],
   "source": [
    "import pandas as pd\n",
    "import warnings\n",
    "warnings.filterwarnings(\"ignore\")"
   ]
  },
  {
   "cell_type": "code",
   "execution_count": 2,
   "metadata": {},
   "outputs": [],
   "source": [
    "#Task1\n",
    "#Loading the data\n",
    "def read_data_from_csv():\n",
    "    df = pd.read_csv(r'iot_telemetry_data.csv')\n",
    "    #df =read the 'iot_telemetry_data.csv' file\n",
    "    return df"
   ]
  },
  {
   "cell_type": "code",
   "execution_count": 3,
   "metadata": {},
   "outputs": [],
   "source": [
    "#Task 2: Renaming the Columns\n",
    "def rename_columns():\n",
    "    # do not edit the predefined function name\n",
    "    df=read_data_from_csv()\n",
    "   \n",
    "    #rename the columns according to the description\n",
    "    #write your code here\n",
    "    df = df.rename(columns={'ts': 'timestamp',\n",
    "                            'device': 'device_id',\n",
    "                            'co': 'carbon_monoxide',\n",
    "                             'lpg': 'liquefied_petroleum_gas',\n",
    "                             'temp': 'temperature'})\n",
    "    return df\n"
   ]
  },
  {
   "cell_type": "code",
   "execution_count": 4,
   "metadata": {},
   "outputs": [],
   "source": [
    "#Task4 :Removing Duplicates\n",
    "\n",
    "def remove_duplicates():\n",
    "    # do not edit the predefined function name\n",
    "    df=rename_columns()\n",
    "    #write your code here to drop the duplicates in the dataset and return the dataframe 'df' without the duplicates\n",
    "    df = df.drop_duplicates()\n",
    "    return df"
   ]
  },
  {
   "cell_type": "code",
   "execution_count": 5,
   "metadata": {},
   "outputs": [],
   "source": [
    "#Task 5:Handling Missing Values:\n",
    "def handle_missing_values():\n",
    "    # do not edit the predefined function name\n",
    "    df=remove_duplicates()\n",
    "    #write your code here to drop the missing values in the dataset which returns the dataframe 'df' without missing values\n",
    "    df = df.dropna()\n",
    "   \n",
    "    return df"
   ]
  },
  {
   "cell_type": "code",
   "execution_count": 8,
   "metadata": {},
   "outputs": [],
   "source": [
    "#Task 6:Data Type Conversion:\n",
    "\n",
    "def convert_data_types():\n",
    "    # do not edit the predefined function name\n",
    "    df= handle_missing_values()\n",
    "    #write your code to change the datatype of each column to respective datatype mentioned in the task\n",
    "    #description and  return the dataframe'df' which contains updated columns datatypes.\n",
    "    df['timestamp'] = df['timestamp'].astype('datetime64[ns]')\n",
    "    df['humidity'] = df['humidity'].astype('float64')\n",
    "    df['light'] = df['light'].astype('bool')\n",
    "    df['motion'] = df['motion'].astype('bool')\n",
    "    df['temperature'] = df['temperature'].astype('float64')\n",
    "    return df"
   ]
  },
  {
   "cell_type": "code",
   "execution_count": 9,
   "metadata": {},
   "outputs": [],
   "source": [
    "#Task 7: Export the cleaned dataset to \"cleaned_environemnt.csv\"\n",
    "def export_the_dataset():\n",
    "    # do not edit the predefined function name\n",
    "    df=convert_data_types()\n",
    "    #write your code to export the cleaned dataset and set the index=false and return the same as 'df'\n",
    "    df.to_csv('cleaned_environment.csv', index=False)\n",
    "    return df"
   ]
  },
  {
   "cell_type": "code",
   "execution_count": null,
   "metadata": {},
   "outputs": [],
   "source": []
  }
 ],
 "metadata": {
  "kernelspec": {
   "display_name": "Python 3",
   "language": "python",
   "name": "python3"
  },
  "language_info": {
   "codemirror_mode": {
    "name": "ipython",
    "version": 3
   },
   "file_extension": ".py",
   "mimetype": "text/x-python",
   "name": "python",
   "nbconvert_exporter": "python",
   "pygments_lexer": "ipython3",
   "version": "3.7.10"
  }
 },
 "nbformat": 4,
 "nbformat_minor": 4
}
